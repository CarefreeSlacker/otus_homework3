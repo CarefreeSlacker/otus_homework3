{
 "cells": [
  {
   "cell_type": "markdown",
   "metadata": {},
   "source": [
    "## Логистическая регрессия"
   ]
  },
  {
   "cell_type": "code",
   "execution_count": 40,
   "metadata": {
    "collapsed": true
   },
   "outputs": [],
   "source": [
    "import pandas as pd\n",
    "import numpy as np\n",
    "import matplotlib.pyplot as plt\n",
    "\n",
    "%matplotlib inline\n",
    "\n",
    "plt.style.use('ggplot')\n",
    "plt.rcParams['figure.figsize'] = (5,5)\n",
    "plt.rcParams['lines.markersize'] = 6"
   ]
  },
  {
   "cell_type": "markdown",
   "metadata": {},
   "source": [
    "Реализуйте обучение логистической регрессии с $L^1$ и $L^2$ регуляризацией с помощью метода Stochastic Gradient Descent (SGD)"
   ]
  },
  {
   "cell_type": "markdown",
   "metadata": {},
   "source": [
    "#### Замечания\n",
    "* В SGD градиент расчитывается по одному случайному объекту\n",
    "* Для отладки работы алгоритма, реализуйте возможность сохранения или вывода ошибки модели после очередной итерации\n",
    "* Правило останова - максимальное количество эпох\n",
    "    \n",
    "Эпохой в SGD и MB-SGD называется один проход по **всем** объектам в выборке (тем или иным способом)"
   ]
  },
  {
   "cell_type": "markdown",
   "metadata": {},
   "source": [
    "# Реализация модели"
   ]
  },
  {
   "cell_type": "code",
   "execution_count": 882,
   "metadata": {
    "collapsed": true
   },
   "outputs": [
    {
     "name": "stdout",
     "output_type": "stream",
     "text": [
      "Final theta [29.25038343 -6.0919473   4.35227533]\n"
     ]
    },
    {
     "data": {
      "image/png": "[encoded data removed]",
      "text/plain": [
       "<Figure size 360x360 with 1 Axes>"
      ]
     },
     "metadata": {},
     "output_type": "display_data"
    }
   ],
   "source": [
    "from sklearn.metrics import zero_one_loss\n",
    "from sklearn.base import BaseEstimator, ClassifierMixin\n",
    "import math\n",
    "import random\n",
    "\n",
    "class MySGDClassifier(BaseEstimator, ClassifierMixin):\n",
    "    \"\"\"\n",
    "    Предполагается, что в выборке всегда 2 класса\n",
    "    \"\"\"\n",
    "\n",
    "    regularisation_algorithms = ['l1', 'l2', None]\n",
    "    \n",
    "    def __init__(self, C=1, alpha=0.01, max_epoch=10, penalty=None):\n",
    "        \"\"\"\n",
    "        C - коэф. регуляризации\n",
    "        alpha - скорость спуска\n",
    "        max_epoch - максимальное количество эпох\n",
    "        \"\"\"\n",
    "        \n",
    "        self.C = C\n",
    "        self.alpha = alpha\n",
    "        self.max_epoch = max_epoch\n",
    "\n",
    "        if penalty in self.regularisation_algorithms:\n",
    "            self.penalty = penalty\n",
    "            self.reg_function = self.__get_regularisation_function(penalty)\n",
    "        else:\n",
    "            raise AttributeError('Unknown regularisation algorithm {0}'.format(penalty))\n",
    "\n",
    "    def __get_regularisation_function(self, penalty):\n",
    "        if penalty == 'l1':\n",
    "            return self.__l1_regularisation\n",
    "        if penalty == 'l2':\n",
    "            return self.__l2_regularisation\n",
    "        else:\n",
    "            return self.__none_regularisation\n",
    "        return 1\n",
    "\n",
    "    def __l1_regularisation(self, y, margin):\n",
    "        return self.C * abs(y - margin)\n",
    "\n",
    "    def __l2_regularisation(self, y, margin):\n",
    "        return self.C * (y - margin) ** 2\n",
    "\n",
    "    def __none_regularisation(self, _y, _margin):\n",
    "        return 0.0\n",
    "\n",
    "    def fit(self, X, y):\n",
    "        '''\n",
    "        Обучение модели\n",
    "        '''\n",
    "        (length, dims) = X.shape\n",
    "        self.dimensions = dims + 1\n",
    "        self.collection_len = length\n",
    "        self.collection = self.__add_c_coefficient(X, length)\n",
    "        self.function_values = y\n",
    "        self.theta = self.__get_random_theta(self.dimensions)\n",
    "\n",
    "        self.__gradient_descent()\n",
    "        \n",
    "        return self\n",
    "\n",
    "    def __add_c_coefficient(self, x, length):\n",
    "        # Уравнение прямой a * x + b * y + c = 0\n",
    "        # У нас в \n",
    "        return np.hstack([x, np.ones((length, 1))])\n",
    "\n",
    "    def __gradient_descent(self):\n",
    "        theta = self.theta\n",
    "        for _epoch in range(self.max_epoch):\n",
    "            p = np.random.permutation(len(self.collection))\n",
    "            for index in p:\n",
    "                xi = self.collection[index]\n",
    "                yi = self.function_values[index]\n",
    "                margin = self.__margin(theta, xi)\n",
    "                sigma = self.__sigmoid(margin)\n",
    "                # Формулу взял отсюда http://www.machinelearning.ru/wiki/images/6/68/voron-ML-Lin.pdf\n",
    "                # За исключением релуляризации self.reg_function её просто подставил. Скорее всего это неправильно.\n",
    "                # Однако я не нашёл ни в лекции ни в интернете как использовать одноверменно регуляризацию и стохастический градиентный спуск.\n",
    "                # Подскажите как это сделать одновременно. Если возможно - формулой)\n",
    "                # При увеличении количества эпох или элементов, сильно возрастают параметры Theta.\n",
    "                # И неудивительно, ведь в формуле нет ни одного отрицательного члена.\n",
    "                # При этом прямая разделяющаяся, остаётся похожей а Theta возрастает пропорционально:\n",
    "                # http://joxi.ru/p27P98eUKWX1YA\n",
    "                # http://joxi.ru/GrqpXM6C4kWPDA\n",
    "                gradient = self.alpha * sigma * xi * yi + self.reg_function(yi, sigma)\n",
    "                # Возможно я неправильно применяю\n",
    "                gradient = gradient.reshape((self.dimensions, 1))\n",
    "                theta = np.add(theta, gradient)\n",
    "\n",
    "        self.theta = theta.reshape(1, self.dimensions)[0]\n",
    "        return True\n",
    "\n",
    "    # Функция использовалась во время дебага убрал т.к. во время обхода, Theta принимает очень уж большие значения http://joxi.ru/D2PLYjRCqk95N2\n",
    "    def print_theta(self, theta):\n",
    "        x_naive = np.arange(-1, 4, 0.1)\n",
    "        [a, b, c] = theta.reshape(1, self.dimensions)[0]\n",
    "        y_naive = -1 * (a / b) * x_naive - (c / b)\n",
    "        plt.plot(x_naive, y_naive, c='g', label='way to optimal decision')\n",
    "        return\n",
    "\n",
    "    def __get_random_theta(self, dim):\n",
    "        return np.array([random.random() for _ in range(dim)]).reshape(dim, 1)\n",
    "\n",
    "    def __margin(self, theta, x):\n",
    "        x = x.reshape((1, self.dimensions))\n",
    "        margin = x.dot(theta)[0][0]\n",
    "        return margin\n",
    "\n",
    "    def __sigmoid(self, z):\n",
    "        sigmoid = 1 / (1 + np.exp(-z))\n",
    "        return sigmoid\n",
    "    \n",
    "    def partial_fit(self, X, y=None):\n",
    "        '''\n",
    "        По желанию - метод дообучения модели на новых данных\n",
    "        '''\n",
    "    \n",
    "        return self\n",
    "        \n",
    "    def predict(self, X):\n",
    "        '''\n",
    "        Возвращение метки класса\n",
    "        '''\n",
    "        margin = self.__margin(self.theta, X)\n",
    "        y_hat = self.__sigmoid(margin)\n",
    "        return round(y_hat)\n",
    "    \n",
    "    def predict_proba(self, X):\n",
    "        '''\n",
    "        Возвращение вероятности каждого из классов\n",
    "        '''\n",
    "\n",
    "        \n",
    "        return y_hat_proba\n",
    "\n",
    "classifier = MySGDClassifier(C=1, alpha=0.005, max_epoch=20)\n",
    "\n",
    "np.random.seed(1)\n",
    "\n",
    "size = 40\n",
    "\n",
    "C1 = np.array([[0., -0.8], [1.5, 0.8]])\n",
    "C2 = np.array([[1., -0.7], [2., 0.7]])\n",
    "gauss1 = np.dot(np.random.randn(size, 2) + np.array([7, 5]), C1)\n",
    "gauss2 = np.dot(np.random.randn(size, 2) + np.array([1.5, 0]), C2)\n",
    "\n",
    "X = np.vstack([gauss1, gauss2])\n",
    "Classes = np.r_[np.ones(size), np.zeros(size)]\n",
    "classifier.fit(X, Classes)\n",
    "\n",
    "x_naive = np.arange(-1, 4, 0.1)\n",
    "print('Final theta {0}'.format(classifier.theta))\n",
    "# Уравнение прямой a * x + b * y + c = 0\n",
    "[a, b, c] = classifier.theta\n",
    "# Соответственно Y выражается как y = -1 * (a / b) * x - (c / b)\n",
    "y_naive = -1 * (a / b) * x_naive - (c / b)\n",
    "\n",
    "plt.plot(x_naive, y_naive, c='red', label='descision boundary')\n",
    "\n",
    "plt.scatter(X[:, 0], X[:, 1], c=Classes)\n",
    "plt.xlabel('X')\n",
    "plt.ylabel('Y')\n",
    "plt.title('Logistic regression experiment')\n",
    "plt.show()\n",
    "\n"
   ]
  },
  {
   "cell_type": "markdown",
   "metadata": {},
   "source": [
    "## Проверка на синтетических данных (2 балл)"
   ]
  },
  {
   "cell_type": "markdown",
   "metadata": {},
   "source": [
    "Запустите ваш алгоритм на синтетических данных. \n",
    "Выведите полученные веса и нарисуйте разделяющую границу между классами."
   ]
  },
  {
   "cell_type": "code",
   "execution_count": 697,
   "metadata": {},
   "outputs": [],
   "source": [
    ""
   ]
  },
  {
   "cell_type": "code",
   "execution_count": 5,
   "metadata": {},
   "outputs": [
    {
     "data": {
      "text/plain": [
       "MySGDClassifier(C=1, alpha=0.01, max_epoch=10, penalty=None)"
      ]
     },
     "execution_count": 5,
     "metadata": {},
     "output_type": "execute_result"
    }
   ],
   "source": [
    "model = MySGDClassifier()\n",
    "model.fit(X, y)"
   ]
  },
  {
   "cell_type": "code",
   "execution_count": 886,
   "metadata": {
    "collapsed": true
   },
   "outputs": [
    {
     "data": {
      "text/plain": [
       "1"
      ]
     },
     "execution_count": 886,
     "metadata": {},
     "output_type": "execute_result"
    }
   ],
   "source": [
    "round(0.51)"
   ]
  },
  {
   "cell_type": "markdown",
   "metadata": {},
   "source": [
    "## Анализ сходимости"
   ]
  },
  {
   "cell_type": "markdown",
   "metadata": {},
   "source": [
    "Покажите сходимость вашего метода: изобразите графики зависимости значения функции потерь (по всей выборке) после очередной итерации/эпохи (выбрать одно) для разных `alpha`."
   ]
  },
  {
   "cell_type": "code",
   "execution_count": 9,
   "metadata": {
    "collapsed": true
   },
   "outputs": [
    {
     "name": "stdout",
     "output_type": "stream",
     "text": [
      "[[1.]\n [1.]\n [1.]\n [1.]\n [1.]\n [1.]\n [1.]\n [1.]\n [1.]\n [1.]]\n"
     ]
    }
   ],
   "source": [
    "print(np.ones((10, 1)))"
   ]
  },
  {
   "cell_type": "code",
   "execution_count": null,
   "metadata": {},
   "outputs": [],
   "source": []
  }
 ],
 "metadata": {
  "anaconda-cloud": {},
  "kernelspec": {
   "display_name": "Python 3",
   "language": "python",
   "name": "python3"
  },
  "language_info": {
   "codemirror_mode": {
    "name": "ipython",
    "version": 3
   },
   "file_extension": ".py",
   "mimetype": "text/x-python",
   "name": "python",
   "nbconvert_exporter": "python",
   "pygments_lexer": "ipython3",
   "version": "3.7.1"
  },
  "nav_menu": {},
  "toc": {
   "navigate_menu": true,
   "number_sections": false,
   "sideBar": true,
   "threshold": 6.0,
   "toc_cell": false,
   "toc_section_display": "block",
   "toc_window_display": true
  }
 },
 "nbformat": 4,
 "nbformat_minor": 2
}
