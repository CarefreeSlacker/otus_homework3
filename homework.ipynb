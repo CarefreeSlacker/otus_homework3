{
 "cells": [
  {
   "cell_type": "markdown",
   "metadata": {},
   "source": [
    "## Логистическая регрессия"
   ]
  },
  {
   "cell_type": "code",
   "execution_count": 40,
   "metadata": {
    "collapsed": true
   },
   "outputs": [],
   "source": [
    "import pandas as pd\n",
    "import numpy as np\n",
    "import matplotlib.pyplot as plt\n",
    "\n",
    "%matplotlib inline\n",
    "\n",
    "plt.style.use('ggplot')\n",
    "plt.rcParams['figure.figsize'] = (5,5)\n",
    "plt.rcParams['lines.markersize'] = 6"
   ]
  },
  {
   "cell_type": "markdown",
   "metadata": {},
   "source": [
    "Реализуйте обучение логистической регрессии с $L^1$ и $L^2$ регуляризацией с помощью метода Stochastic Gradient Descent (SGD)"
   ]
  },
  {
   "cell_type": "markdown",
   "metadata": {},
   "source": [
    "#### Замечания\n",
    "* В SGD градиент расчитывается по одному случайному объекту\n",
    "* Для отладки работы алгоритма, реализуйте возможность сохранения или вывода ошибки модели после очередной итерации\n",
    "* Правило останова - максимальное количество эпох\n",
    "    \n",
    "Эпохой в SGD и MB-SGD называется один проход по **всем** объектам в выборке (тем или иным способом)"
   ]
  },
  {
   "cell_type": "markdown",
   "metadata": {},
   "source": [
    "# Реализация модели"
   ]
  },
  {
   "cell_type": "code",
   "execution_count": null,
   "metadata": {
    "collapsed": true
   },
   "outputs": [
    {
     "name": "stdout",
     "output_type": "stream",
     "text": [
      "[[0.77790826]\n [0.35285082]\n [0.08648326]]\n[37.121471   -8.29911368  7.13966947]\n"
     ]
    },
    {
     "data": {
      "image/png": "[encoded data removed]",
      "text/plain": [
       "<Figure size 360x360 with 1 Axes>"
      ]
     },
     "metadata": {},
     "output_type": "display_data"
    },
    {
     "name": "stdout",
     "output_type": "stream",
     "text": [
      "[[ 6.58236538 -3.38888142  1.        ]\n [ 5.89054707 -2.0358375   1.        ]\n [ 4.04769195 -4.13355706  1.        ]\n [ 6.35818965 -3.60481493  1.        ]\n [ 7.12594444 -2.05472758  1.        ]\n [ 4.40978894 -4.41779892  1.        ]\n [ 6.92391847 -1.64930972  1.        ]\n [ 5.8501631  -3.38692857  1.        ]\n [ 6.18321237 -2.16434417  1.        ]\n [ 8.37422282 -1.16751883  1.        ]\n [ 9.21708556  0.19627431  1.        ]\n [ 8.25374151 -1.91927711  1.        ]\n [ 6.47440821 -2.86766705  1.        ]\n [ 6.09634585 -2.25030337  1.        ]\n [ 8.2955332  -0.96140516  1.        ]\n [ 6.90486971 -1.36407422  1.        ]\n [ 6.23219154 -1.72642635  1.        ]\n [ 7.4810031  -1.07313477  1.        ]\n [ 7.85162355 -0.51861916  1.        ]\n [ 8.61306624 -2.33420641  1.        ]\n [-0.46709348 -1.53705539  1.        ]\n [ 4.13775091  0.65772903  1.        ]\n [ 0.27681646 -1.53146238  1.        ]\n [ 5.89142576  0.28653776  1.        ]\n [ 2.85456517 -0.70206909  1.        ]\n [ 1.09567063 -1.50669412  1.        ]\n [-0.34120364 -0.49477717  1.        ]\n [ 2.46435215 -0.4931378   1.        ]\n [ 4.20118758 -0.98551693  1.        ]\n [ 3.55586965 -0.63031231  1.        ]\n [ 3.25133837  0.35508627  1.        ]\n [ 1.41674415 -1.61771586  1.        ]\n [ 1.83737472 -1.4448629   1.        ]\n [ 5.67126302 -0.7782688   1.        ]\n [ 0.89258274 -3.55745022  1.        ]\n [-0.95304553 -0.39224644  1.        ]\n [ 3.41237491 -0.5487077   1.        ]\n [-2.22876748 -2.68648531  1.        ]\n [ 2.84974527 -0.25607494  1.        ]\n [ 3.2541171  -0.67765849  1.        ]]\n"
     ]
    }
   ],
   "source": [
    "from sklearn.metrics import zero_one_loss\n",
    "from sklearn.base import BaseEstimator, ClassifierMixin\n",
    "import math\n",
    "import random\n",
    "\n",
    "# gradients = 2. / m * X_b.T.dot(X_b.dot(theta) - y)\n",
    "# theta_old = theta\n",
    "# theta = theta - alpha * gradients\n",
    "# dist = np.linalg.norm(theta - theta_old)\n",
    "# if dist < eps:\n",
    "#     break\n",
    "\n",
    "# def predict(x, w):\n",
    "#     return np.sign(x.dot(w))\n",
    "\n",
    "class MySGDClassifier(BaseEstimator, ClassifierMixin):\n",
    "    \"\"\"\n",
    "    Предполагается, что в выборке всегда 2 класса\n",
    "    \"\"\"\n",
    "\n",
    "    regularisation_algorithms = ['l1', 'l2', None]\n",
    "    \n",
    "    def __init__(self, C=1, alpha=0.01, max_epoch=10, penalty=None):\n",
    "        \"\"\"\n",
    "        C - коэф. регуляризации\n",
    "        alpha - скорость спуска\n",
    "        max_epoch - максимальное количество эпох\n",
    "        \"\"\"\n",
    "        \n",
    "        self.C = C\n",
    "        self.alpha = alpha\n",
    "        self.max_epoch = max_epoch\n",
    "\n",
    "        if penalty in self.regularisation_algorithms:\n",
    "            self.penalty = penalty\n",
    "            self.reg_function = self.__get_regularisation_function(penalty)\n",
    "        else:\n",
    "            raise AttributeError('Unknown regularisation algorithm {0}'.format(penalty))\n",
    "\n",
    "    def __get_regularisation_function(self, penalty):\n",
    "        if penalty == 'l1':\n",
    "            return self.__l1_regularisation\n",
    "        if penalty == 'l2':\n",
    "            return self.__l2_regularisation\n",
    "        else:\n",
    "            return self.__none_regularisation\n",
    "        return 1\n",
    "\n",
    "    def __l1_regularisation(self, y, margin):\n",
    "        return self.C * abs(y - margin)\n",
    "\n",
    "    def __l2_regularisation(self, y, margin):\n",
    "        return self.C * (y - margin) ** 2\n",
    "\n",
    "    def __none_regularisation(self, _y, _margin):\n",
    "        return 0.0\n",
    "\n",
    "    def fit(self, X, y):\n",
    "        '''\n",
    "        Обучение модели\n",
    "        '''\n",
    "        (length, dims) = X.shape\n",
    "        self.dimensions = dims + 1\n",
    "        self.collection_len = length\n",
    "        self.collection = self.__add_c_coefficient(X, length)\n",
    "        self.function_values = y\n",
    "        self.theta = self.__get_random_theta(self.dimensions)\n",
    "        self.final_theta = 0\n",
    "\n",
    "        self.__gradient_descent()\n",
    "        \n",
    "        return self\n",
    "\n",
    "    def __add_c_coefficient(self, x, length):\n",
    "        median_values = [np.median(x[:,i]) for i in range(self.dimensions - 1)]\n",
    "        fill_value = np.max(median_values)\n",
    "        return np.hstack([x, np.full((length, 1), 1)])\n",
    "\n",
    "    def __gradient_descent(self):\n",
    "        theta = self.theta\n",
    "        for epoch in range(self.max_epoch):\n",
    "            p = np.random.permutation(len(self.collection))\n",
    "            # print(\"Epoch {0}\".format(epoch))\n",
    "            for index in p:\n",
    "                # print(\"before theta {0}\".format(theta.reshape((1,3))))\n",
    "                xi = self.collection[index]\n",
    "                yi = self.function_values[index]\n",
    "                margin = self.__margin(theta, xi)\n",
    "                sigma = self.__sigmoid(margin)\n",
    "                gradient = (self.alpha * sigma * xi * yi + self.reg_function(yi, sigma)) / self.collection_len\n",
    "                gradient = gradient.reshape((self.dimensions, 1))\n",
    "                # print('yi {0} yhat {1} regularisation {2} Gradient {3} '.format(yi, yhat, self.reg_function(yi, yhat), gradient.reshape((1,3))))\n",
    "                theta = np.add(theta, gradient)\n",
    "                # print(\"id: {0} sigma {1} margin {2} gradient {3}, regularisation {4}\".format(index, round(sigma, 4), round(margin, 4), gradient.reshape((1, 3)), self.reg_function(yi, sigma)))\n",
    "\n",
    "            # self.print_theta(theta)\n",
    "\n",
    "        self.final_theta = theta.reshape(1, self.dimensions)[0]\n",
    "        return True\n",
    "\n",
    "    def print_theta(self, theta):\n",
    "        x_naive = np.arange(-1, 4, 0.1)\n",
    "        [a, b, c] =theta.reshape(1, self.dimensions)[0]\n",
    "        y_naive = -1 * (a / b) * x_naive - (c / b)\n",
    "        plt.plot(x_naive, y_naive, c='g', label='way to optimal decision')\n",
    "        return\n",
    "\n",
    "    def __get_random_theta(self, dim):\n",
    "        return np.array([random.random() for _ in range(dim)]).reshape(dim, 1)\n",
    "\n",
    "    def __margin(self, theta, x):\n",
    "        x = x.reshape((1, self.dimensions))\n",
    "        margin = x.dot(theta)[0][0]\n",
    "        # print('x {0} margin {1}, theta {2}'.format(x, margin, theta))\n",
    "        return margin\n",
    "\n",
    "    def __sigmoid(self, z):\n",
    "        sigmoid = 1 / (1 + np.exp(-z))\n",
    "        return sigmoid\n",
    "    \n",
    "    def partial_fit(self, X, y=None):\n",
    "        '''\n",
    "        По желанию - метод дообучения модели на новых данных\n",
    "        '''\n",
    "    \n",
    "        return self\n",
    "        \n",
    "    def predict(self, X):\n",
    "        '''\n",
    "        Возвращение метки класса\n",
    "        '''\n",
    "        \n",
    "        return y_hat\n",
    "    \n",
    "    def predict_proba(self, X):\n",
    "        '''\n",
    "        Возвращение вероятности каждого из классов\n",
    "        '''\n",
    "\n",
    "        \n",
    "        return y_hat_proba\n",
    "\n",
    "classifier = MySGDClassifier(C=0.5, alpha=1, max_epoch=10, penalty='l2')\n",
    "\n",
    "np.random.seed(1)\n",
    "\n",
    "size = 20\n",
    "\n",
    "C1 = np.array([[0., -0.8], [1.5, 0.8]])\n",
    "C2 = np.array([[1., -0.7], [2., 0.7]])\n",
    "gauss1 = np.dot(np.random.randn(size, 2) + np.array([7, 5]), C1)\n",
    "gauss2 = np.dot(np.random.randn(size, 2) + np.array([1.5, 0]), C2)\n",
    "\n",
    "X = np.vstack([gauss1, gauss2])\n",
    "Y = np.r_[np.ones(size), np.zeros(size)]\n",
    "classifier.fit(X, Y)\n",
    "\n",
    "x_naive = np.arange(-1, 4, 0.1)\n",
    "print(classifier.theta)\n",
    "print(classifier.final_theta)\n",
    "[a, b, c] = classifier.final_theta\n",
    "# print('Theta {0}'.format(classifier.theta))\n",
    "y_naive = -1 * (a / b) * x_naive - (c / b)\n",
    "plt.plot(x_naive, y_naive, c='red', label='descision boundary naive')\n",
    "\n",
    "plt.scatter(X[:, 0], X[:, 1], c=Y + 1)\n",
    "plt.xlabel('X1')\n",
    "plt.ylabel('X2')\n",
    "plt.title('Logistic regression experiment')\n",
    "plt.show()\n",
    "print(classifier.collection)\n",
    "\n"
   ]
  },
  {
   "cell_type": "markdown",
   "metadata": {},
   "source": [
    "## Проверка на синтетических данных (2 балл)"
   ]
  },
  {
   "cell_type": "markdown",
   "metadata": {},
   "source": [
    "Запустите ваш алгоритм на синтетических данных. \n",
    "Выведите полученные веса и нарисуйте разделяющую границу между классами."
   ]
  },
  {
   "cell_type": "code",
   "execution_count": 542,
   "metadata": {},
   "outputs": [
    {
     "name": "stdout",
     "output_type": "stream",
     "text": [
      "[ 6.58236538  5.89054707  4.04769195  6.35818965  7.12594444 -1.15817348\n  0.40947409  0.43398691 -0.42814504  2.70784417]\n7.125944436783885\n['ALLOW_THREADS', 'AxisError', 'BUFSIZE', 'CLIP', 'ComplexWarning', 'DataSource', 'ERR_CALL', 'ERR_DEFAULT', 'ERR_IGNORE', 'ERR_LOG', 'ERR_PRINT', 'ERR_RAISE', 'ERR_WARN', 'FLOATING_POINT_SUPPORT', 'FPE_DIVIDEBYZERO', 'FPE_INVALID', 'FPE_OVERFLOW', 'FPE_UNDERFLOW', 'False_', 'Inf', 'Infinity', 'MAXDIMS', 'MAY_SHARE_BOUNDS', 'MAY_SHARE_EXACT', 'MachAr', 'ModuleDeprecationWarning', 'NAN', 'NINF', 'NZERO', 'NaN', 'PINF', 'PZERO', 'PackageLoader', 'RAISE', 'RankWarning', 'SHIFT_DIVIDEBYZERO', 'SHIFT_INVALID', 'SHIFT_OVERFLOW', 'SHIFT_UNDERFLOW', 'ScalarType', 'Tester', 'TooHardError', 'True_', 'UFUNC_BUFSIZE_DEFAULT', 'UFUNC_PYVALS_NAME', 'VisibleDeprecationWarning', 'WRAP', '_NoValue', '__NUMPY_SETUP__', '__all__', '__builtins__', '__cached__', '__config__', '__doc__', '__file__', '__git_revision__', '__loader__', '__mkl_version__', '__name__', '__package__', '__path__', '__spec__', '__version__', '_distributor_init', '_globals', '_import_tools', '_mat', '_mklinit', 'abs', 'absolute', 'absolute_import', 'add', 'add_docstring', 'add_newdoc', 'add_newdoc_ufunc', 'add_newdocs', 'alen', 'all', 'allclose', 'alltrue', 'amax', 'amin', 'angle', 'any', 'append', 'apply_along_axis', 'apply_over_axes', 'arange', 'arccos', 'arccosh', 'arcsin', 'arcsinh', 'arctan', 'arctan2', 'arctanh', 'argmax', 'argmin', 'argpartition', 'argsort', 'argwhere', 'around', 'array', 'array2string', 'array_equal', 'array_equiv', 'array_repr', 'array_split', 'array_str', 'asanyarray', 'asarray', 'asarray_chkfinite', 'ascontiguousarray', 'asfarray', 'asfortranarray', 'asmatrix', 'asscalar', 'atleast_1d', 'atleast_2d', 'atleast_3d', 'average', 'bartlett', 'base_repr', 'binary_repr', 'bincount', 'bitwise_and', 'bitwise_not', 'bitwise_or', 'bitwise_xor', 'blackman', 'block', 'bmat', 'bool', 'bool8', 'bool_', 'broadcast', 'broadcast_arrays', 'broadcast_to', 'busday_count', 'busday_offset', 'busdaycalendar', 'byte', 'byte_bounds', 'bytes0', 'bytes_', 'c_', 'can_cast', 'cast', 'cbrt', 'cdouble', 'ceil', 'cfloat', 'char', 'character', 'chararray', 'choose', 'clip', 'clongdouble', 'clongfloat', 'column_stack', 'common_type', 'compare_chararrays', 'compat', 'complex', 'complex128', 'complex256', 'complex64', 'complex_', 'complexfloating', 'compress', 'concatenate', 'conj', 'conjugate', 'convolve', 'copy', 'copysign', 'copyto', 'core', 'corrcoef', 'correlate', 'cos', 'cosh', 'count_nonzero', 'cov', 'cross', 'csingle', 'ctypeslib', 'cumprod', 'cumproduct', 'cumsum', 'datetime64', 'datetime_as_string', 'datetime_data', 'deg2rad', 'degrees', 'delete', 'deprecate', 'deprecate_with_doc', 'diag', 'diag_indices', 'diag_indices_from', 'diagflat', 'diagonal', 'diff', 'digitize', 'disp', 'divide', 'division', 'divmod', 'dot', 'double', 'dsplit', 'dstack', 'dtype', 'dual', 'e', 'ediff1d', 'einsum', 'einsum_path', 'emath', 'empty', 'empty_like', 'equal', 'erf', 'errstate', 'euler_gamma', 'exp', 'exp2', 'expand_dims', 'expm1', 'extract', 'eye', 'fabs', 'fastCopyAndTranspose', 'fft', 'fill_diagonal', 'find_common_type', 'finfo', 'fix', 'flatiter', 'flatnonzero', 'flexible', 'flip', 'fliplr', 'flipud', 'float', 'float128', 'float16', 'float32', 'float64', 'float_', 'float_power', 'floating', 'floor', 'floor_divide', 'fmax', 'fmin', 'fmod', 'format_float_positional', 'format_float_scientific', 'format_parser', 'frexp', 'frombuffer', 'fromfile', 'fromfunction', 'fromiter', 'frompyfunc', 'fromregex', 'fromstring', 'full', 'full_like', 'fv', 'gcd', 'generic', 'genfromtxt', 'geomspace', 'get_array_wrap', 'get_include', 'get_printoptions', 'getbufsize', 'geterr', 'geterrcall', 'geterrobj', 'gradient', 'greater', 'greater_equal', 'half', 'hamming', 'hanning', 'heaviside', 'histogram', 'histogram2d', 'histogram_bin_edges', 'histogramdd', 'hsplit', 'hstack', 'hypot', 'i0', 'identity', 'iinfo', 'imag', 'in1d', 'index_exp', 'indices', 'inexact', 'inf', 'info', 'infty', 'inner', 'insert', 'int', 'int0', 'int16', 'int32', 'int64', 'int8', 'int_', 'int_asbuffer', 'intc', 'integer', 'interp', 'intersect1d', 'intp', 'invert', 'ipmt', 'irr', 'is_busday', 'isclose', 'iscomplex', 'iscomplexobj', 'isfinite', 'isfortran', 'isin', 'isinf', 'isnan', 'isnat', 'isneginf', 'isposinf', 'isreal', 'isrealobj', 'isscalar', 'issctype', 'issubclass_', 'issubdtype', 'issubsctype', 'iterable', 'ix_', 'kaiser', 'kron', 'lcm', 'ldexp', 'left_shift', 'less', 'less_equal', 'lexsort', 'lib', 'linalg', 'linspace', 'little_endian', 'load', 'loads', 'loadtxt', 'log', 'log10', 'log1p', 'log2', 'logaddexp', 'logaddexp2', 'logical_and', 'logical_not', 'logical_or', 'logical_xor', 'logspace', 'long', 'longcomplex', 'longdouble', 'longfloat', 'longlong', 'lookfor', 'ma', 'mafromtxt', 'mask_indices', 'mat', 'math', 'matlib', 'matmul', 'matrix', 'matrixlib', 'max', 'maximum', 'maximum_sctype', 'may_share_memory', 'mean', 'median', 'memmap', 'meshgrid', 'mgrid', 'min', 'min_scalar_type', 'minimum', 'mintypecode', 'mirr', 'mod', 'modf', 'moveaxis', 'msort', 'multiply', 'nan', 'nan_to_num', 'nanargmax', 'nanargmin', 'nancumprod', 'nancumsum', 'nanmax', 'nanmean', 'nanmedian', 'nanmin', 'nanpercentile', 'nanprod', 'nanquantile', 'nanstd', 'nansum', 'nanvar', 'nbytes', 'ndarray', 'ndenumerate', 'ndfromtxt', 'ndim', 'ndindex', 'nditer', 'negative', 'nested_iters', 'newaxis', 'nextafter', 'nonzero', 'not_equal', 'nper', 'npv', 'numarray', 'number', 'obj2sctype', 'object', 'object0', 'object_', 'ogrid', 'oldnumeric', 'ones', 'ones_like', 'outer', 'packbits', 'pad', 'partition', 'percentile', 'pi', 'piecewise', 'pkgload', 'place', 'pmt', 'poly', 'poly1d', 'polyadd', 'polyder', 'polydiv', 'polyfit', 'polyint', 'polymul', 'polynomial', 'polysub', 'polyval', 'positive', 'power', 'ppmt', 'print_function', 'printoptions', 'prod', 'product', 'promote_types', 'ptp', 'put', 'put_along_axis', 'putmask', 'pv', 'quantile', 'r_', 'rad2deg', 'radians', 'random', 'rank', 'rate', 'ravel', 'ravel_multi_index', 'real', 'real_if_close', 'rec', 'recarray', 'recfromcsv', 'recfromtxt', 'reciprocal', 'record', 'remainder', 'repeat', 'require', 'reshape', 'resize', 'result_type', 'right_shift', 'rint', 'roll', 'rollaxis', 'roots', 'rot90', 'round', 'round_', 'row_stack', 's_', 'safe_eval', 'save', 'savetxt', 'savez', 'savez_compressed', 'sctype2char', 'sctypeDict', 'sctypeNA', 'sctypes', 'searchsorted', 'select', 'set_numeric_ops', 'set_printoptions', 'set_string_function', 'setbufsize', 'setdiff1d', 'seterr', 'seterrcall', 'seterrobj', 'setxor1d', 'shape', 'shares_memory', 'short', 'show_config', 'sign', 'signbit', 'signedinteger', 'sin', 'sinc', 'single', 'singlecomplex', 'sinh', 'size', 'sometrue', 'sort', 'sort_complex', 'source', 'spacing', 'split', 'sqrt', 'square', 'squeeze', 'stack', 'std', 'str', 'str0', 'str_', 'string_', 'subtract', 'sum', 'swapaxes', 'sys', 'take', 'take_along_axis', 'tan', 'tanh', 'tensordot', 'test', 'testing', 'tile', 'timedelta64', 'trace', 'tracemalloc_domain', 'transpose', 'trapz', 'tri', 'tril', 'tril_indices', 'tril_indices_from', 'trim_zeros', 'triu', 'triu_indices', 'triu_indices_from', 'true_divide', 'trunc', 'typeDict', 'typeNA', 'typecodes', 'typename', 'ubyte', 'ufunc', 'uint', 'uint0', 'uint16', 'uint32', 'uint64', 'uint8', 'uintc', 'uintp', 'ulonglong', 'unicode', 'unicode_', 'union1d', 'unique', 'unpackbits', 'unravel_index', 'unsignedinteger', 'unwrap', 'ushort', 'vander', 'var', 'vdot', 'vectorize', 'version', 'void', 'void0', 'vsplit', 'vstack', 'warnings', 'where', 'who', 'zeros', 'zeros_like']\n"
     ]
    }
   ],
   "source": [
    "# np.random.seed(0)\n",
    "# \n",
    "# C1 = np.array([[0., -0.8], [1.5, 0.8]])\n",
    "# C2 = np.array([[1., -0.7], [2., 0.7]])\n",
    "# gauss1 = np.dot(np.random.randn(200, 2) + np.array([5, 3]), C1)\n",
    "# gauss2 = np.dot(np.random.randn(200, 2) + np.array([1.5, 0]), C2)\n",
    "# \n",
    "# X = np.vstack([gauss1, gauss2])\n",
    "# y = np.r_[np.ones(200), np.zeros(200)]\n",
    "# \n",
    "# plt.scatter(X[:,0], X[:,1], c=y)\n",
    "# import math\n",
    "# ar1 = np.array([[1],[2],[3]])\n",
    "# ar2 = np.array([[5],[5],[5]])\n",
    "# print(ar1)\n",
    "# print(ar.reshape((1,3)))\n",
    "# print(ar + 0.4)\n",
    "# print(dir(math))\n",
    "# C1 = np.array([[0., -0.8], [1.5, 0.8]])\n",
    "# C2 = np.array([[1., -0.7], [2., 0.7]])\n",
    "# [a, b, c] = c.theta\n",
    "# print([a, b, c] )\n",
    "\n",
    "\n",
    "\n",
    "# print(np.random.randn(3, 1))\n",
    "ar = X[:, 0]\n",
    "print(ar)\n",
    "print(np.max(ar))\n",
    "print(dir(np))\n"
   ]
  },
  {
   "cell_type": "code",
   "execution_count": 5,
   "metadata": {},
   "outputs": [
    {
     "data": {
      "text/plain": [
       "MySGDClassifier(C=1, alpha=0.01, max_epoch=10, penalty=None)"
      ]
     },
     "execution_count": 5,
     "metadata": {},
     "output_type": "execute_result"
    }
   ],
   "source": [
    "model = MySGDClassifier()\n",
    "model.fit(X, y)"
   ]
  },
  {
   "cell_type": "code",
   "execution_count": 22,
   "metadata": {
    "collapsed": true
   },
   "outputs": [
    {
     "name": "stdout",
     "output_type": "stream",
     "text": [
      "[[ 5.10023581e+00 -2.69111611e+00]\n [ 7.86133980e+00 -5.90275828e-01]\n [ 3.03408318e+00 -3.87586870e+00]\n [ 4.27296419e+00 -2.48115650e+00]\n [ 5.11589775e+00 -1.18894612e+00]\n [ 6.68141026e+00 -5.51816051e-01]\n [ 4.68251252e+00 -2.11149017e+00]\n [ 5.00051149e+00 -1.68815112e+00]\n [ 4.19226260e+00 -2.95938987e+00]\n [ 3.21885639e+00 -2.53373075e+00]\n [ 5.48042789e+00  9.65286729e-01]\n [ 3.38675247e+00 -2.88528098e+00]\n [ 2.31845149e+00 -4.57929624e+00]\n [ 4.21922422e+00 -1.78635389e+00]\n [ 6.70403815e+00 -1.65073636e+00]\n [ 5.06724378e+00 -1.42142792e+00]\n [ 1.52880530e+00 -2.47440858e+00]\n [ 4.73452345e+00 -1.19659111e+00]\n [ 6.30356977e+00 -1.62232867e+00]\n [ 4.04654587e+00 -1.53198075e+00]\n [ 2.36997309e+00 -1.89717198e+00]\n [ 7.42616309e+00  1.32563647e+00]\n [ 3.84288855e+00 -1.54273770e+00]\n [ 5.66623553e+00  2.42285727e-02]\n [ 4.18088958e+00 -4.79073946e-01]\n [ 5.08035375e+00 -5.74104753e-01]\n [ 2.72905172e+00 -2.13586164e+00]\n [ 5.14249781e+00 -1.23478872e+00]\n [ 4.95370785e+00 -1.41123626e+00]\n [ 3.95588825e+00 -1.38273526e+00]\n [ 3.96067026e+00 -1.34967417e+00]\n [ 1.91057610e+00 -2.33050906e+00]\n [ 3.89732860e+00 -2.06336566e+00]\n [ 5.19417338e+00  7.43844820e-02]\n [ 4.57791809e+00 -8.32604992e-01]\n [ 4.69347437e+00 -2.08008612e+00]\n [ 2.64776127e+00 -3.49938120e+00]\n [ 3.47278486e+00 -2.46972139e+00]\n [ 3.63172550e+00 -1.36644201e+00]\n [ 4.58424801e+00 -1.30582570e+00]\n [ 5.85123973e+00  5.27810622e-02]\n [ 2.19563447e+00 -3.20152490e+00]\n [ 7.34383376e+00 -1.27389041e+00]\n [ 4.23011275e+00 -2.68696353e+00]\n [ 6.08167759e+00  1.00163479e-01]\n [ 6.33366761e+00 -2.99502386e-01]\n [ 5.96495855e+00 -9.85308753e-01]\n [ 5.55985975e+00 -1.31983458e+00]\n [ 7.17880574e+00 -1.79703621e-01]\n [ 5.10298405e+00 -1.37993818e+00]\n [ 2.47836141e+00 -4.18472781e+00]\n [ 5.95409506e+00  1.91905365e-01]\n [ 7.41543178e+00  8.93395673e-01]\n [ 3.37881778e+00 -1.86706866e+00]\n [ 6.72077219e+00 -1.95394179e+00]\n [ 5.85906699e+00 -2.36921144e+00]\n [ 7.36509743e+00  6.17032511e-01]\n [ 5.70368459e+00 -7.43632187e-01]\n [ 4.26748486e+00 -2.48180965e+00]\n [ 5.88331001e+00 -1.35349816e+00]\n [ 2.85089881e+00 -2.78066106e+00]\n [ 6.48957885e+00 -7.77481822e-01]\n [ 4.27554819e+00 -1.16405334e+00]\n [ 7.27389559e+00  2.27533824e-01]\n [ 5.11119275e+00 -1.81186634e+00]\n [ 5.30887379e+00 -5.52667787e-01]\n [ 4.54774584e+00 -1.03506942e+00]\n [ 5.51464994e+00 -5.50176501e-01]\n [ 4.18755187e+00 -2.22791166e+00]\n [ 2.86040774e+00 -2.79125458e+00]\n [ 5.15908755e+00 -5.54805648e-02]\n [ 5.45254716e+00 -1.22531365e+00]\n [ 5.91671923e+00 -2.75093223e+00]\n [ 6.17552443e+00  2.38708108e-02]\n [ 3.80762309e+00 -9.16541755e-01]\n [ 7.07001408e+00 -1.74732538e-01]\n [ 3.26034219e+00 -1.66534697e+00]\n [ 3.50478257e+00 -2.05202061e+00]\n [ 2.88010274e+00 -3.36525394e+00]\n [ 3.84326993e+00 -1.03228111e+00]\n [ 7.39429808e+00  3.42051604e-01]\n [ 4.63132686e+00 -2.28949565e+00]\n [ 5.76654446e+00  5.58387962e-02]\n [ 2.18284335e+00 -2.03564460e+00]\n [ 4.97541392e+00 -2.29686974e+00]\n [ 4.97809148e+00 -2.08170494e+00]\n [ 3.52346161e+00 -2.80628496e+00]\n [ 5.52239178e+00 -2.27330112e-01]\n [ 3.46567533e+00 -1.50891209e+00]\n [ 4.52621874e+00 -1.22159067e+00]\n [ 2.43757306e+00 -2.41676591e+00]\n [ 1.16489527e+00 -2.86382780e+00]\n [ 2.09691352e+00 -3.38183129e+00]\n [ 4.57824762e+00 -6.74761265e-01]\n [ 6.81452189e+00  2.26062073e-01]\n [ 4.90057630e+00 -3.52073777e-01]\n [ 2.74785975e+00 -2.50304854e+00]\n [ 4.24268050e+00 -2.15585839e+00]\n [ 5.73525623e+00 -1.55862912e+00]\n [ 6.50479192e+00 -2.26136640e+00]\n [ 4.14093123e+00 -1.49615787e+00]\n [ 5.48289560e+00 -1.95551669e+00]\n [ 2.07456593e+00 -3.40567006e+00]\n [ 3.39295364e+00 -2.17096383e+00]\n [ 4.35277442e+00 -1.90245999e+00]\n [ 4.97582732e+00 -2.07436855e+00]\n [ 3.80037135e+00 -2.60219765e+00]\n [ 3.88492546e+00 -1.17248275e+00]\n [ 5.06872760e+00 -1.28306228e+00]\n [ 4.43661427e+00 -3.44125288e+00]\n [ 3.98102734e+00 -1.11202942e+00]\n [ 5.22222221e+00 -8.43938041e-01]\n [ 4.59489299e+00 -3.16752793e-01]\n [ 4.84827155e+00 -1.53946040e+00]\n [ 4.14311741e+00 -1.31248453e+00]\n [ 3.76002017e+00 -8.55407180e-01]\n [ 5.12407507e+00 -8.32870782e-01]\n [ 5.67179715e+00 -5.00955732e-02]\n [ 1.39502246e+00 -4.45157566e+00]\n [ 5.51536205e+00 -1.39948056e+00]\n [ 3.90409228e+00 -1.40786783e+00]\n [ 4.05331368e+00 -1.73192824e+00]\n [ 1.98599429e+00 -2.69359267e+00]\n [ 6.11942789e+00 -1.65817038e+00]\n [ 2.30036351e+00 -2.12244805e+00]\n [ 3.63631805e+00 -2.47748228e+00]\n [ 4.02100737e+00 -1.96902526e+00]\n [ 5.54212372e+00 -1.59743169e+00]\n [ 2.42495407e+00 -2.12621326e+00]\n [ 5.41556907e+00  1.54654221e-01]\n [ 3.73977547e+00 -1.05436568e+00]\n [ 4.42114906e+00 -1.16500261e+00]\n [ 4.78316790e+00  1.00046722e-01]\n [ 4.63263313e+00 -1.94837515e+00]\n [ 4.64610025e+00 -1.27337093e+00]\n [ 3.41110865e-01 -4.13731128e+00]\n [ 5.08513998e+00 -2.85265519e+00]\n [ 3.91356994e+00 -1.39083583e+00]\n [ 4.32584409e+00 -2.08787657e+00]\n [ 7.59673929e+00  1.67614186e+00]\n [ 6.03025907e+00 -6.95429305e-01]\n [ 6.80456558e+00  1.82741522e-01]\n [ 5.41326575e+00 -1.34199988e+00]\n [ 6.31671793e+00  2.05118925e-01]\n [ 6.45276934e+00 -1.11037755e+00]\n [ 3.77845932e+00 -1.48235165e+00]\n [ 2.90997627e+00 -4.29114602e+00]\n [ 6.20533704e+00 -5.81727149e-01]\n [ 5.37443052e+00 -1.21181703e+00]\n [ 5.05508383e+00 -9.84396066e-01]\n [ 6.98719602e+00  7.71726025e-01]\n [ 3.47973269e+00 -2.04961133e+00]\n [ 3.80892032e+00 -2.50168230e+00]\n [ 2.47992374e+00 -1.60996723e+00]\n [ 4.26063984e+00 -2.28267727e+00]\n [ 6.11661571e+00 -6.30843707e-01]\n [ 3.40398337e+00 -1.28308156e+00]\n [ 4.64152738e+00 -1.21661488e+00]\n [ 4.06966921e+00 -1.79577259e+00]\n [ 4.33904209e+00 -1.63654310e+00]\n [ 3.28051052e+00 -1.67471088e+00]\n [ 3.16362738e+00 -2.53234515e+00]\n [ 4.03156162e+00 -9.23949594e-01]\n [ 7.88508525e+00  3.31512411e-01]\n [ 5.91489109e+00 -2.81631199e-01]\n [ 2.71658257e+00 -3.14890663e+00]\n [ 2.72417904e+00 -3.16570689e+00]\n [ 5.40947929e+00  1.01239341e+00]\n [ 5.17640169e+00  1.65460036e-01]\n [ 6.98932619e+00  2.74849355e-01]\n [ 3.81992129e+00 -2.81751616e+00]\n [ 2.67888390e+00 -2.02099183e+00]\n [ 4.07946676e+00 -1.47154629e+00]\n [ 4.73505578e+00 -1.18288208e+00]\n [ 5.02448169e+00 -1.78309363e+00]\n [ 2.34331279e+00 -2.13891804e+00]\n [ 3.46582622e+00 -3.24318483e+00]\n [ 3.71821603e+00 -1.49511657e+00]\n [ 3.78303899e+00 -5.07923563e-01]\n [ 5.43053745e+00 -7.19988710e-01]\n [ 4.50565633e+00 -2.15574901e+00]\n [ 5.00994748e+00 -2.07350671e+00]\n [ 4.74139225e+00 -1.45871178e+00]\n [ 3.90772573e+00 -1.76335682e+00]\n [ 2.80798300e+00 -2.28822224e+00]\n [ 3.01031458e+00 -2.61885225e+00]\n [ 4.12581213e+00 -2.47287188e+00]\n [ 5.24075516e+00 -1.24452656e+00]\n [ 2.14406489e+00 -3.37115030e+00]\n [ 5.82026837e+00 -7.30333929e-01]\n [ 5.08092071e+00  6.83090359e-02]\n [ 2.96623973e+00 -6.13554091e-01]\n [ 2.01492735e+00 -2.95627652e+00]\n [ 2.29224749e+00 -1.98905942e+00]\n [ 4.74634163e+00 -2.78712574e+00]\n [ 4.16598735e+00 -2.23197230e+00]\n [ 2.07528872e+00 -2.61043395e+00]\n [ 3.35776168e+00 -1.97572388e+00]\n [ 6.21165280e+00 -1.37345765e+00]\n [ 5.77882791e+00 -2.09122142e+00]\n [-1.33044791e+00 -1.41207013e+00]\n [ 2.97924882e+00 -1.33725925e+00]\n [ 4.42425135e-01  4.36814170e-01]\n [ 2.43237100e+00 -1.57891596e+00]\n [-3.00350646e-01 -1.48581637e+00]\n [ 1.65406120e+00  5.22782854e-01]\n [ 7.23952232e-01 -9.97046552e-01]\n [ 4.60172340e+00 -1.78375406e+00]\n [ 2.15494861e+00 -1.21013424e+00]\n [ 6.45917348e+00 -9.10283887e-01]\n [ 3.59395429e+00 -1.29309636e+00]\n [-3.47159243e-01  5.02827490e-01]\n [ 1.55779950e+00 -8.93157871e-01]\n [-3.03630825e+00 -3.62790628e+00]\n [ 1.47049666e+00 -4.62548514e-01]\n [-1.80065777e+00 -1.71504240e+00]\n [ 2.92270730e+00 -1.46446411e+00]\n [ 1.15852984e+00 -1.49854758e-01]\n [ 2.33217100e+00 -1.62140515e+00]\n [ 2.45708515e+00 -1.55561324e+00]\n [-1.21407002e+00 -1.58493407e+00]\n [ 1.80265511e+00 -8.53843406e-01]\n [ 2.14561782e+00 -1.74365816e+00]\n [ 2.81915788e-02 -2.04541933e+00]\n [ 4.96592246e-01 -5.79432100e-01]\n [ 2.08586721e+00  2.62413411e-01]\n [ 2.52132186e+00 -1.17882420e+00]\n [ 5.88099125e+00  1.27497605e-01]\n [-3.37174676e+00 -2.26280397e+00]\n [ 1.59809311e+00 -1.22493262e+00]\n [-9.75178761e-01 -1.37291757e+00]\n [ 1.42348734e+00 -6.15630434e-01]\n [ 5.82209066e+00  9.90689266e-01]\n [-1.04673911e+00 -9.32829087e-01]\n [-2.85651210e-01  7.28073119e-01]\n [-1.59531589e+00 -1.61336039e-02]\n [-1.95126466e-01 -1.35384020e+00]\n [ 5.22766146e+00 -1.57113480e+00]\n [ 1.05429924e+00 -2.59108899e+00]\n [ 3.62059596e+00 -1.49281518e+00]\n [ 4.33028361e+00 -8.69376984e-01]\n [-2.57398488e-01 -7.10888063e-01]\n [-2.94864217e+00 -3.51275057e+00]\n [ 4.11959221e+00 -1.72213721e+00]\n [ 1.89531135e+00 -8.63651869e-01]\n [-2.29822012e-01 -5.74005657e-01]\n [ 5.19632828e+00 -9.11583656e-01]\n [ 4.04837472e+00 -2.98910410e+00]\n [-1.87020899e-01 -9.48976699e-01]\n [ 3.26248613e-01 -3.91869016e-01]\n [ 1.81424787e+00 -1.34188230e+00]\n [ 2.12791524e+00 -1.98139385e+00]\n [-9.98760622e-03 -1.21367248e+00]\n [-3.26816997e+00 -1.00459324e+00]\n [ 2.92369821e+00  6.86410202e-01]\n [ 5.14518841e+00 -7.14207345e-01]\n [-3.76946103e+00 -1.49548912e+00]\n [ 1.19158159e+00 -4.64887309e-01]\n [ 4.09463459e+00 -6.65502683e-01]\n [ 5.26961723e+00 -2.91276231e-02]\n [-5.48764117e-01 -1.53333148e+00]\n [-1.95916093e+00 -4.95427200e-01]\n [-3.53225537e-02 -1.84158675e+00]\n [ 5.26139788e+00 -7.17090330e-01]\n [ 8.58517696e-01  1.21354744e+00]\n [ 6.33940515e-02  7.98772180e-01]\n [ 2.85458278e+00 -1.86201012e+00]\n [-9.50551582e-01 -5.64019422e-01]\n [ 8.73864987e-01 -9.94419537e-01]\n [ 1.07733760e+00 -9.84890157e-01]\n [-7.03667259e-01 -2.04543759e+00]\n [ 4.29450251e+00  1.82196700e-01]\n [ 2.27682391e-01 -1.09143347e+00]\n [-2.54017203e+00 -3.59616738e+00]\n [ 1.41757109e+00 -2.31929765e+00]\n [ 1.85657128e+00 -1.09732505e+00]\n [ 1.90727863e+00 -1.89704401e+00]\n [ 3.41766580e+00  3.33110101e-01]\n [-8.23505454e-01  6.19155599e-01]\n [-1.37107220e+00 -6.39553576e-01]\n [ 3.42206583e+00 -2.48909648e+00]\n [-1.86805601e+00 -2.43364279e+00]\n [ 1.16407014e+00 -4.02078558e-01]\n [ 3.08853080e+00 -8.66509797e-01]\n [ 2.56263632e+00 -6.87136583e-01]\n [-1.70569891e+00 -2.64846563e+00]\n [ 3.07281054e+00 -5.38372320e-01]\n [ 1.36216220e+00 -1.71761704e+00]\n [-1.54225036e+00 -1.26887979e+00]\n [ 3.63510575e+00 -1.65106276e-01]\n [-1.77158756e+00 -1.45661340e-01]\n [ 1.93011259e+00  2.97331984e-01]\n [ 4.41505712e-03 -9.91429622e-01]\n [ 2.17383693e+00 -5.86360025e-01]\n [-4.98467511e+00 -2.90762784e+00]\n [ 2.92139781e+00 -1.12298825e+00]\n [-8.87614270e-01 -1.65514691e+00]\n [ 2.61025118e+00 -1.03078120e+00]\n [ 5.96504176e-01 -8.72689012e-01]\n [ 2.12665313e-01 -5.23902813e-01]\n [ 7.84208297e-01  3.27423716e-01]\n [ 1.03183780e+00 -2.22269853e-01]\n [-1.08607821e+00 -4.78866311e-01]\n [-1.93188903e+00 -2.13514728e+00]\n [ 8.56852747e-01 -1.39600681e+00]\n [-2.84884171e+00 -7.42620589e-01]\n [ 3.89623206e+00 -8.46694869e-01]\n [ 2.17761498e+00 -6.74330684e-01]\n [ 2.38308953e+00 -9.75954407e-01]\n [-2.28012789e-01 -3.00508768e+00]\n [ 1.41244282e+00 -1.79092878e+00]\n [ 6.71241605e-01 -1.10459356e+00]\n [-1.32753950e+00 -1.64573435e+00]\n [ 5.02522526e+00 -8.67731653e-03]\n [ 1.44109689e+00 -1.01167642e+00]\n [ 5.77751870e-01 -6.51122856e-01]\n [ 1.22568154e+00 -1.63548621e+00]\n [ 1.85272504e+00 -4.50051993e-01]\n [ 1.08698848e+00 -2.30649022e-01]\n [ 5.04021888e+00 -6.72261279e-01]\n [ 4.14481247e+00 -2.94145270e-02]\n [ 5.41984606e-01 -2.47143577e+00]\n [-3.27865787e-01 -4.10917588e-01]\n [ 2.38436148e+00 -1.82085575e+00]\n [ 4.00382880e+00  4.57030516e-01]\n [-2.85428406e+00 -2.87524913e+00]\n [ 2.85724186e+00 -9.07984008e-01]\n [ 2.62503285e+00 -8.93127588e-01]\n [-1.20406735e+00 -1.92578418e+00]\n [-7.61935594e-01 -1.45243825e+00]\n [-1.95887761e+00 -1.28122921e+00]\n [ 2.14828138e+00 -1.29821506e+00]\n [-2.46841218e-01 -1.19082080e+00]\n [ 3.63496635e+00 -2.78167517e-01]\n [ 2.49537326e-01  6.16764565e-01]\n [-2.81488366e+00 -1.98721171e+00]\n [-2.27127007e+00 -3.26956288e-01]\n [ 2.50563542e+00 -9.28512635e-01]\n [ 2.59506041e+00  3.19201795e-01]\n [ 3.71515667e+00 -1.76882784e+00]\n [ 3.15743570e+00  1.51075297e-01]\n [ 3.99021052e+00 -9.71591799e-01]\n [-4.82557269e+00 -2.57466358e+00]\n [ 3.95034215e-01 -3.65936860e+00]\n [ 6.22572263e+00  6.41559396e-01]\n [ 3.72906970e+00 -6.16931198e-01]\n [-3.55773048e+00 -1.24268927e+00]\n [ 3.14879668e+00  8.64167685e-02]\n [-4.35522090e-01 -1.36387081e+00]\n [ 3.86183773e+00 -4.31222450e-01]\n [-2.36602619e+00 -8.85921957e-01]\n [ 2.90060749e+00  2.68315340e-01]\n [ 5.99912835e+00  2.78132319e-01]\n [ 2.36625537e+00 -1.73007863e+00]\n [ 3.18807186e+00 -1.78750658e+00]\n [ 2.15502834e+00 -8.05726623e-02]\n [ 2.22879145e-01 -7.65849313e-01]\n [ 2.62521972e+00 -2.05034493e+00]\n [-2.31816770e-01 -8.12837413e-01]\n [ 1.41670924e+00 -2.15203188e+00]\n [ 9.25436739e-02 -1.13639532e+00]\n [ 9.12945974e-01 -1.44859068e+00]\n [-1.87619793e+00 -5.49741425e-01]\n [ 3.05384973e+00  4.73275898e-01]\n [ 3.48719280e+00 -1.20779026e+00]\n [-6.36941401e-01 -1.26730326e+00]\n [-1.11127781e+00 -1.43105375e+00]\n [-4.93442905e-01 -4.36976543e+00]\n [-5.05096061e-01 -2.34399258e+00]\n [-5.80347376e-01 -1.66856092e+00]\n [-1.95802156e+00 -1.02379714e+00]\n [ 2.98900931e+00 -2.37158220e+00]\n [ 1.84587173e+00 -1.24957589e-01]\n [ 2.95041683e+00 -5.53220889e-01]\n [ 2.82951153e-01  4.39502392e-01]\n [-1.05050175e+00 -2.75400519e+00]\n [ 5.34055843e+00 -1.76409598e-01]\n [ 3.12795417e+00 -4.64615452e-01]\n [ 7.55559055e-01 -2.01465330e+00]\n [-1.59422269e+00 -2.17473301e+00]\n [ 1.58007291e+00 -5.48106292e-01]\n [ 2.27232474e+00 -1.53894186e+00]\n [ 1.41713042e-02 -2.32602296e+00]\n [ 1.43686149e+00 -9.65316339e-01]\n [ 2.92125793e+00 -2.49463053e+00]\n [ 1.04368581e+00 -6.85742497e-01]\n [ 9.66394253e-01 -2.71692894e-01]\n [-2.44771031e+00 -2.04839063e+00]\n [ 8.06327261e-01 -1.23126958e+00]\n [-2.66691611e-01  4.57024032e-02]\n [ 4.03196346e+00 -1.72763655e+00]\n [-5.71066258e-01 -2.41739674e+00]\n [ 2.27379753e+00 -1.27991415e+00]\n [ 2.87430248e+00 -1.12449163e+00]\n [ 5.74176514e-02 -1.27134060e-01]\n [ 6.41960951e-01 -5.54549264e-01]\n [ 3.22753981e+00  4.96909906e-01]\n [-1.15685670e+00 -1.07797884e+00]\n [-5.79611732e-01 -1.85617983e+00]\n [-5.84592498e-01 -1.33371091e+00]]\n"
     ]
    }
   ],
   "source": [
    "print(X)"
   ]
  },
  {
   "cell_type": "markdown",
   "metadata": {},
   "source": [
    "## Анализ сходимости"
   ]
  },
  {
   "cell_type": "markdown",
   "metadata": {},
   "source": [
    "Покажите сходимость вашего метода: изобразите графики зависимости значения функции потерь (по всей выборке) после очередной итерации/эпохи (выбрать одно) для разных `alpha`."
   ]
  },
  {
   "cell_type": "code",
   "execution_count": 9,
   "metadata": {
    "collapsed": true
   },
   "outputs": [
    {
     "name": "stdout",
     "output_type": "stream",
     "text": [
      "[[1.]\n [1.]\n [1.]\n [1.]\n [1.]\n [1.]\n [1.]\n [1.]\n [1.]\n [1.]]\n"
     ]
    }
   ],
   "source": [
    "print(np.ones((10, 1)))"
   ]
  },
  {
   "cell_type": "code",
   "execution_count": null,
   "metadata": {},
   "outputs": [],
   "source": []
  }
 ],
 "metadata": {
  "anaconda-cloud": {},
  "kernelspec": {
   "display_name": "Python 3",
   "language": "python",
   "name": "python3"
  },
  "language_info": {
   "codemirror_mode": {
    "name": "ipython",
    "version": 3
   },
   "file_extension": ".py",
   "mimetype": "text/x-python",
   "name": "python",
   "nbconvert_exporter": "python",
   "pygments_lexer": "ipython3",
   "version": "3.7.1"
  },
  "nav_menu": {},
  "toc": {
   "navigate_menu": true,
   "number_sections": false,
   "sideBar": true,
   "threshold": 6.0,
   "toc_cell": false,
   "toc_section_display": "block",
   "toc_window_display": true
  }
 },
 "nbformat": 4,
 "nbformat_minor": 2
}
