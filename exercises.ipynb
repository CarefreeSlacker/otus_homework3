{
 "cells": [
  {
   "cell_type": "markdown",
   "metadata": {
    "collapsed": true
   },
   "source": [
    "<img src=\"pics/otus.png\">"
   ]
  },
  {
   "cell_type": "code",
   "execution_count": 68,
   "metadata": {
    "collapsed": true
   },
   "outputs": [],
   "source": [
    "import numpy as np\n",
    "import matplotlib\n",
    "import matplotlib.pyplot as plt\n",
    "import pandas as pd\n",
    "from sklearn import datasets\n",
    "from sklearn.preprocessing import StandardScaler\n",
    "from sklearn.linear_model import LinearRegression\n",
    "from pandas.tools.plotting import table\n",
    "from sklearn import datasets\n",
    "\n",
    "%matplotlib inline\n",
    "plt.rcParams[\"figure.figsize\"] = [12, 8]\n",
    "\n",
    "np.random.seed(42)\n"
   ]
  },
  {
   "cell_type": "markdown",
   "metadata": {},
   "source": [
    "# Логистическая регрессия"
   ]
  },
  {
   "cell_type": "markdown",
   "metadata": {},
   "source": [
    "## Как принимается решение\n",
    "\n",
    "Простой вариант - узнать, с какой стороны от гиперплоскости находится точка\n",
    "\n",
    "$$\\hat{y} = sign(x\\theta)$$\n",
    "\n",
    "Уравнение прямой\n",
    "      $$Ax+By+C=0$$\n",
    "\n",
    "Расстояние от точки $(x0, y0)$ до прямой $Ax+By+C=0$ это $$\\frac{|Ax0 + By0 + C|}{\\sqrt{(A^2 + B^2)}}$$"
   ]
  },
  {
   "cell_type": "markdown",
   "metadata": {},
   "source": [
    "## Упражнение 1"
   ]
  },
  {
   "cell_type": "code",
   "execution_count": 189,
   "metadata": {},
   "outputs": [
    {
     "name": "stdout",
     "output_type": "stream",
     "text": [
      "(10, 3)\n(10,)\n"
     ]
    }
   ],
   "source": [
    "w = np.array([7, -1, 1]) # Ax + By + C = 0\n",
    "\n",
    "# Замечание: расстояние от точки (x0, y0) до прямой Ax + By + C это abs(Ax0 + By0 + C) / sqrt(A^2 + B^2)\n",
    "\n",
    "def predict(points, w):\n",
    "    result = []\n",
    "    [a_coef, b_coef, c_coef] = w\n",
    "\n",
    "    for [x0, y0, _useles_param] in points:\n",
    "        sign = a_coef * x0 + b_coef * y0 + c_coef\n",
    "        result += [sign]\n",
    "\n",
    "    return np.array(result)\n",
    "\n",
    "x_pred = np.hstack([np.random.rand(10, 2) * 4 - 2, np.ones(10).reshape(-1, 1)])\n",
    "y_pred = predict(x_pred, w)\n",
    "\n",
    "print(x_pred.shape)\n",
    "print(y_pred.shape)\n"
   ]
  },
  {
   "cell_type": "code",
   "execution_count": 190,
   "metadata": {},
   "outputs": [
    {
     "data": {
      "text/plain": [
       "<matplotlib.legend.Legend at 0x7f05ff489a90>"
      ]
     },
     "execution_count": 190,
     "metadata": {},
     "output_type": "execute_result"
    },
    {
     "data": {
      "image/png": "[encoded data removed]",
      "text/plain": [
       "<Figure size 864x576 with 1 Axes>"
      ]
     },
     "metadata": {},
     "output_type": "display_data"
    }
   ],
   "source": [
    "x_naive = np.arange(-0.5, 0.5, 0.1)\n",
    "y_naive = 7 * x_naive + 1\n",
    "\n",
    "plt.scatter(x_pred[:, 0], x_pred[:, 1], c=['yellow' if y_i > 0 else 'green' for y_i in y_pred])\n",
    "plt.title(\"Classification problem \\n What is the color for the new (x1, x2) pair?\")\n",
    "plt.xlabel(\"x1 (feature)\")\n",
    "plt.ylabel(\"x2 (feature)\")\n",
    "plt.plot(x_naive, y_naive, c='red', label='descision boundary naive')\n",
    "plt.legend()\n",
    "# plt.savefig('pics/classification_random_line.pdf')"
   ]
  },
  {
   "cell_type": "markdown",
   "metadata": {},
   "source": [
    "# Градиентный спуск\n",
    "\n"
   ]
  },
  {
   "cell_type": "markdown",
   "metadata": {},
   "source": [
    "Посчитаем, чему равен градиент функции потерь $RSS(\\theta)$\n",
    "\n",
    "$$ RSS = \\mathcal{L}(\\theta) = (\\hat{y} - y)^2 $$\n",
    "\n",
    "$$ \\frac{\\partial L}{\\partial \\theta_i} = 2(\\hat{y} - y)\\frac{\\partial L}{\\partial \\theta_i}(\\hat{y} - y) = 2(\\hat{y} - y)\\frac{\\partial L}{\\partial \\theta_i}(\\theta_0x_0 + ... + \\theta_1x_1 - y) = 2(\\hat{y} - y)\\cdot x_i$$\n",
    "\n",
    "$$ \\theta_i:= \\theta_i - \\alpha(\\hat{y} - y)\\cdot x_i$$\n",
    "\n",
    "Или:\n",
    "$$ \\frac{\\partial RSS(\\theta)}{\\partial \\theta_i} = 2\\sum_{i=1}^{n}(\\theta^T\\cdot x_i - y_i)x_i$$\n",
    "\n",
    "$$\\nabla_\\theta RSS(\\theta) = \\left( \\begin{matrix} \\frac{\\partial L}{\\partial \\theta_0} \\\\ \\frac{\\partial L}{\\partial \\theta_1} \\\\ ... \\\\ \\frac{\\partial L}{\\partial \\theta_p} \\end{matrix} \\right) = x^\\top(x\\theta - y)$$\n",
    "\n",
    "\n",
    "Для MSE:\n",
    "$$ \\frac{\\partial L}{\\partial \\theta} = \\frac{1}{n} X^\\top(X\\theta - y)$$"
   ]
  },
  {
   "cell_type": "code",
   "execution_count": 191,
   "metadata": {
    "collapsed": true
   },
   "outputs": [],
   "source": [
    "np.random.seed(42)\n",
    "x = 2 * np.random.rand(100, 1)\n",
    "y = 4 + 3 * x + np.random.randn(100, 1)"
   ]
  },
  {
   "cell_type": "code",
   "execution_count": 192,
   "metadata": {},
   "outputs": [
    {
     "data": {
      "text/plain": [
       "(array([4.21509616]), array([[2.77011339]]))"
      ]
     },
     "execution_count": 192,
     "metadata": {},
     "output_type": "execute_result"
    }
   ],
   "source": [
    "lin_reg = LinearRegression()\n",
    "lin_reg.fit(X, y)\n",
    "lin_reg.intercept_, lin_reg.coef_"
   ]
  },
  {
   "cell_type": "code",
   "execution_count": 193,
   "metadata": {
    "collapsed": true
   },
   "outputs": [],
   "source": [
    "theta_best = np.vstack([lin_reg.intercept_, lin_reg.coef_.ravel()])"
   ]
  },
  {
   "cell_type": "code",
   "execution_count": 194,
   "metadata": {},
   "outputs": [
    {
     "data": {
      "text/plain": [
       "array([[4.21509616],\n       [9.75532293]])"
      ]
     },
     "execution_count": 194,
     "metadata": {},
     "output_type": "execute_result"
    }
   ],
   "source": [
    "X_new = np.array([[0], [2]])\n",
    "X_new_b = np.c_[np.ones((2, 1)), X_new]  # add x0 = 1 to each instance\n",
    "y_predict = X_new_b.dot(theta_best)\n",
    "y_predict"
   ]
  },
  {
   "cell_type": "markdown",
   "metadata": {},
   "source": [
    "## Псевдокод алгоритма\n",
    "\n",
    "```{python}\n",
    "1.function gd(X, alpha, epsilon):\n",
    "2.    initialise theta \n",
    "3.    do: \n",
    "4.        theta = new_theta\n",
    "5.        new_theta = theta - alpha * grad(X, theta)\n",
    "6.    until dist(new_theta, theta) < epsilon\n",
    "7.    return theta\n",
    "```"
   ]
  },
  {
   "cell_type": "markdown",
   "metadata": {},
   "source": [
    "## Упражнение 2"
   ]
  },
  {
   "cell_type": "code",
   "execution_count": 204,
   "metadata": {},
   "outputs": [
    {
     "name": "stdout",
     "output_type": "stream",
     "text": [
      "Gradient descent\nIterations: 345.\nDist: 9.892799447772617e-05.\nInitial theta: (-0.9764265916915398, 0.06753977906994638).\nGradient generated theta: (4.210800667110931, 2.7739060710126378)\nBest theta: (4.215096157546747, 2.7701133864384833)\n"
     ]
    }
   ],
   "source": [
    "X_b = np.c_[np.ones((100, 1)), X]\n",
    "\n",
    "def print_theta(th):\n",
    "    [[first_coefficient], [second_coefficient]] = th\n",
    "    return \"({0}, {1})\".format(first_coefficient, second_coefficient)\n",
    "\n",
    "def calculate_theta_by_gradient(X, Y, theta, alpha, eps, n_iterations = 1000):\n",
    "    initial_theta = theta\n",
    "    m = len(X)\n",
    "    iterations_count = 0\n",
    "    dist = 0\n",
    "    for iteration in range(n_iterations):\n",
    "        gradients = 1. / m * X.T.dot(X.dot(theta) - Y)\n",
    "        theta = theta - alpha * gradients\n",
    "        dist = np.linalg.norm(-1 * alpha * gradients)\n",
    "        iterations_count = iteration + 1\n",
    "        if dist < eps:\n",
    "            break\n",
    "\n",
    "\n",
    "    print('Gradient descent')\n",
    "    print('Iterations: {0}.\\nDist: {1}.\\nInitial theta: {2}.\\nGradient generated theta: {3}'.format(iterations_count, dist, print_theta(initial_theta), print_theta(theta)))\n",
    "    return theta\n",
    "\n",
    "X_b = np.c_[np.ones((100, 1)), X]\n",
    "random_theta = np.random.randn(2,1)\n",
    "alpha = 0.1\n",
    "eps = 0.0001\n",
    "\n",
    "calculate_theta_by_gradient(X_b, y, random_theta, alpha, eps, 2000)\n",
    "print('Best theta: {0}'.format(print_theta(theta_best)))\n"
   ]
  },
  {
   "cell_type": "code",
   "execution_count": 187,
   "metadata": {},
   "outputs": [],
   "source": [
    ""
   ]
  },
  {
   "cell_type": "markdown",
   "metadata": {},
   "source": [
    "## Стохастический градиентный спуск\n"
   ]
  },
  {
   "cell_type": "markdown",
   "metadata": {},
   "source": [
    "Проблема - используется вся обучающая выборка на каждом шаге алгоритма  \n",
    "Решение - использовать один случайный элемент выборки"
   ]
  },
  {
   "cell_type": "markdown",
   "metadata": {},
   "source": [
    "### Градиентный спуск\n",
    "\n",
    "```{python}\n",
    "1.function gd(X, alpha, epsilon):\n",
    "2.    initialise theta \n",
    "3.    do: \n",
    "4.        theta = new_theta\n",
    "5.        new_theta = theta - alpha * grad(X, theta)\n",
    "6.    until dist(new_theta, theta) < epsilon\n",
    "7.    return theta\n",
    "```\n",
    "\n",
    "### Стохастический градиентный спуск\n",
    "\n",
    "```{python}\n",
    "1.function sgd(X, alpha, epsilon):\n",
    "2. \tinitialise theta \n",
    "3. \tdo: \n",
    "4.        X = shuffle(X)\n",
    "5.        for x in X:\n",
    "6.            theta = new_theta\n",
    "7.            new_theta = theta - alpha * grad(x, theta)\n",
    "8.\tuntil dist(new_theta, theta) < epsilon\n",
    "9.\treturn theta\n",
    "```"
   ]
  },
  {
   "cell_type": "code",
   "execution_count": 205,
   "metadata": {},
   "outputs": [
    {
     "name": "stdout",
     "output_type": "stream",
     "text": [
      "Stochastic gradient descent\nIterations: 921.\nEpochs: 10.\nDist: 5.77076698002735e-05.\nInitial theta: (1.6240197994726442, -0.020155336347329265).\nGradient generated theta: (4.210686198951724, 2.7739321060965043)\nBest theta: (4.215096157546747, 2.7701133864384833)\n"
     ]
    }
   ],
   "source": [
    "m = len(X_b)\n",
    "alpha = 0.01\n",
    "n_epochs = 100\n",
    "\n",
    "theta = np.random.randn(2,1)\n",
    "\n",
    "X_b = np.c_[np.ones((100, 1)), X]\n",
    "\n",
    "def print_theta(th):\n",
    "    [[first_coefficient], [second_coefficient]] = th\n",
    "    return \"({0}, {1})\".format(first_coefficient, second_coefficient)\n",
    "\n",
    "def stochastic_calculate_theta_by_gradient(X, Y, theta, alpha, eps, n_epochs = 100):\n",
    "    initial_theta = theta\n",
    "    m = len(X)\n",
    "    epoch_count = 0\n",
    "    iterations = 0\n",
    "    dist = 0\n",
    "    for _epoch in range(n_epochs):\n",
    "        shuffled_array = np.hstack((X_b, y))\n",
    "        np.random.shuffle(shuffled_array)\n",
    "        dist = eps + 1\n",
    "        for [x0, x1, y_val] in shuffled_array:\n",
    "            x_vector = np.array([[x0, x1]])\n",
    "            y_value = np.array([[y_val]])\n",
    "            gradient = x_vector.T.dot(x_vector.dot(theta) - y_value)\n",
    "            theta = theta_old - alpha * gradient\n",
    "            dist = np.linalg.norm(-1 * alpha * gradient)\n",
    "            iterations += 1\n",
    "            if dist < eps:\n",
    "                break\n",
    "        epoch_count += 1\n",
    "\n",
    "        if dist < eps:\n",
    "            break\n",
    "\n",
    "    print('Stochastic gradient descent')\n",
    "    print('Iterations: {0}.\\nEpochs: {1}.\\nDist: {2}.\\nInitial theta: {3}.\\nGradient generated theta: {4}'.format(iterations, epoch_count, dist, print_theta(initial_theta), print_theta(theta)))\n",
    "    return theta\n",
    "\n",
    "X_b = np.c_[np.ones((100, 1)), X]\n",
    "random_theta = np.random.randn(2,1)\n",
    "n_epochs = 100\n",
    "alpha = 0.1\n",
    "eps = 0.0001\n",
    "\n",
    "stochastic_calculate_theta_by_gradient(X, y, random_theta, alpha, eps, n_epochs)\n",
    "print('Best theta: {0}'.format(print_theta(theta_best)))"
   ]
  },
  {
   "cell_type": "code",
   "execution_count": 216,
   "metadata": {},
   "outputs": [],
   "source": [
    "def compare_descendts(number_elements, alpha, eps, iterations, n_epochs):\n",
    "    np.random.seed(42)\n",
    "    rand_x = 2 * np.random.rand(number_elements, 1)\n",
    "    rand_y = 4 + 3 * rand_x + np.random.randn(number_elements, 1)\n",
    "    rand_theta = np.random.randn(2,1)\n",
    "    x_collection = np.c_[np.ones((number_elements, 1)), rand_x]\n",
    "    \n",
    "    lin_reg = LinearRegression()\n",
    "    lin_reg.fit(X, y)\n",
    "    lin_reg.intercept_, lin_reg.coef_\n",
    "    \n",
    "    theta_best = np.vstack([lin_reg.intercept_, lin_reg.coef_.ravel()])\n",
    "\n",
    "    calculate_theta_by_gradient(x_collection, rand_y, rand_theta, alpha, eps, iterations)\n",
    "    print('\\n-------------------\\n')\n",
    "    stochastic_calculate_theta_by_gradient(x_collection, rand_y, rand_theta, alpha, eps, n_epochs)\n",
    "    print('\\n-------------------\\n')\n",
    "    print('Best theta: {0}'.format(print_theta(theta_best)))\n",
    "\n"
   ]
  },
  {
   "cell_type": "code",
   "execution_count": 217,
   "metadata": {},
   "outputs": [
    {
     "name": "stdout",
     "output_type": "stream",
     "text": [
      "Gradient descent\nIterations: 619.\nDist: 9.980247551639527e-05.\nInitial theta: (0.01300189187790702, 1.4535340771573169).\nGradient generated theta: (4.206354422417673, 2.777831863401888)\n\n-------------------\n\nStochastic gradient descent\nIterations: 636.\nEpochs: 7.\nDist: 2.0015485715856476e-05.\nInitial theta: (0.01300189187790702, 1.4535340771573169).\nGradient generated theta: (4.210750380612902, 2.7739758276584636)\n\n-------------------\n\nBest theta: (4.215096157546747, 2.7701133864384833)\n"
     ]
    }
   ],
   "source": [
    "compare_descendts(100, 0.05, 0.0001, 1000, 100)"
   ]
  },
  {
   "cell_type": "code",
   "execution_count": 218,
   "metadata": {},
   "outputs": [
    {
     "name": "stdout",
     "output_type": "stream",
     "text": [
      "Gradient descent\nIterations: 653.\nDist: 9.927191895141734e-05.\nInitial theta: (-1.4063174636718339, -0.08310557262869477).\nGradient generated theta: (4.165383734026342, 2.9306658478719254)\n\n-------------------\n\nStochastic gradient descent\nIterations: 333.\nEpochs: 4.\nDist: 8.952727897116892e-05.\nInitial theta: (-1.4063174636718339, -0.08310557262869477).\nGradient generated theta: (4.210655799260259, 2.773920564786412)\n\n-------------------\n\nBest theta: (4.215096157546747, 2.7701133864384833)\n"
     ]
    }
   ],
   "source": [
    "compare_descendts(1000, 0.05, 0.0001, 1000, 100)"
   ]
  },
  {
   "cell_type": "code",
   "execution_count": 221,
   "metadata": {},
   "outputs": [
    {
     "name": "stdout",
     "output_type": "stream",
     "text": [
      "Gradient descent\nIterations: 669.\nDist: 9.962809152427521e-05.\nInitial theta: (0.3467099776049199, 2.5115565515844236).\nGradient generated theta: (3.9628055538799845, 3.0434463858982617)\n\n-------------------\n\nStochastic gradient descent\nIterations: 245.\nEpochs: 3.\nDist: 2.9460784582332218e-05.\nInitial theta: (0.3467099776049199, 2.5115565515844236).\nGradient generated theta: (4.210760982600888, 2.773975239814567)\n\n-------------------\n\nBest theta: (4.215096157546747, 2.7701133864384833)\n"
     ]
    }
   ],
   "source": [
    "compare_descendts(2000, 0.05, 0.0001, 1000, 100)"
   ]
  },
  {
   "cell_type": "markdown",
   "metadata": {},
   "source": [
    "Сравнение алгоритмов позволяет заключить что стохастический градиентный спуск действительно работает быстрее"
   ]
  },
  {
   "cell_type": "code",
   "execution_count": null,
   "metadata": {},
   "outputs": [],
   "source": []
  }
 ],
 "metadata": {
  "kernelspec": {
   "display_name": "Python 3",
   "language": "python",
   "name": "python3"
  },
  "language_info": {
   "codemirror_mode": {
    "name": "ipython",
    "version": 3
   },
   "file_extension": ".py",
   "mimetype": "text/x-python",
   "name": "python",
   "nbconvert_exporter": "python",
   "pygments_lexer": "ipython3",
   "version": "3.7.1"
  }
 },
 "nbformat": 4,
 "nbformat_minor": 2
}
